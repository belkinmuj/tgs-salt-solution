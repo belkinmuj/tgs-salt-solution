{
 "cells": [
  {
   "cell_type": "code",
   "execution_count": 49,
   "metadata": {},
   "outputs": [
    {
     "data": {
      "text/plain": [
       "0    671\n",
       "1    669\n",
       "2    667\n",
       "3    665\n",
       "4    665\n",
       "5    663\n",
       "Name: fold, dtype: int64"
      ]
     },
     "execution_count": 49,
     "metadata": {},
     "output_type": "execute_result"
    }
   ],
   "source": [
    "import pandas as pd\n",
    "import numpy as np\n",
    "\n",
    "from keras.preprocessing.image import array_to_img, img_to_array, load_img\n",
    "from sklearn.model_selection import train_test_split, StratifiedKFold\n",
    "\n",
    "img_size_ori = 101\n",
    "\n",
    "def cov_to_class(val):    \n",
    "    for i in range(0, 11):\n",
    "        if val * 20 <= i :\n",
    "            return i\n",
    "\n",
    "train_df = pd.read_csv(\"./input/train.csv\", index_col=\"id\", usecols=[0])\n",
    "depths_df = pd.read_csv(\"./input/depths.csv\", index_col=\"id\")\n",
    "train_df = train_df.join(depths_df)\n",
    "\n",
    "train_df[\"masks\"] = [np.array(load_img(\"./input/train/masks/{}.png\".format(idx), grayscale=True)) / 255 for idx in (train_df.index)]\n",
    "train_df[\"coverage\"] = train_df.masks.map(np.sum) / pow(img_size_ori, 2) / 3\n",
    "train_df[\"coverage_class\"] = train_df.coverage.map(cov_to_class)\n",
    "\n",
    "skf = StratifiedKFold(n_splits=6, shuffle=True, random_state=57)\n",
    "\n",
    "train_df[\"fold\"] = -1\n",
    "\n",
    "fold = 0\n",
    "for train_index, valid_index in skf.split(train_df.index, train_df.coverage_class):\n",
    "    train_df.loc[train_df.index[valid_index],[\"fold\"]]=fold\n",
    "    fold+=1\n",
    "    \n",
    "train_df.sort_index(inplace=True)\n",
    "train_df.to_csv(\"folds_stratified_by_coverage.csv\", columns=[\"fold\"])\n",
    "\n",
    "train_df.fold.value_counts()"
   ]
  },
  {
   "cell_type": "code",
   "execution_count": 50,
   "metadata": {},
   "outputs": [
    {
     "data": {
      "text/plain": [
       "0    1562\n",
       "1     747\n",
       "2     349\n",
       "4     325\n",
       "3     291\n",
       "5     251\n",
       "7     245\n",
       "6     230\n",
       "Name: coverage_class, dtype: int64"
      ]
     },
     "execution_count": 50,
     "metadata": {},
     "output_type": "execute_result"
    }
   ],
   "source": [
    "train_df.coverage_class.value_counts()"
   ]
  },
  {
   "cell_type": "code",
   "execution_count": 51,
   "metadata": {},
   "outputs": [
    {
     "data": {
      "text/plain": [
       "0.20156203063983177"
      ]
     },
     "execution_count": 51,
     "metadata": {},
     "output_type": "execute_result"
    }
   ],
   "source": [
    "671/(4000-671)"
   ]
  }
 ],
 "metadata": {
  "kernelspec": {
   "display_name": "Python 3",
   "language": "python",
   "name": "python3"
  },
  "language_info": {
   "codemirror_mode": {
    "name": "ipython",
    "version": 3
   },
   "file_extension": ".py",
   "mimetype": "text/x-python",
   "name": "python",
   "nbconvert_exporter": "python",
   "pygments_lexer": "ipython3",
   "version": "3.6.5"
  }
 },
 "nbformat": 4,
 "nbformat_minor": 2
}
